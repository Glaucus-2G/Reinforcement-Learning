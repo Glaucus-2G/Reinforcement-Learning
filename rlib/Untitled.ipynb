{
 "cells": [
  {
   "cell_type": "code",
   "execution_count": 1,
   "metadata": {},
   "outputs": [],
   "source": [
    "import numpy as np \n",
    "import tensorflow as tf\n",
    "tf.enable_eager_execution()\n",
    "\n",
    "config = tf.compat.v1.ConfigProto() #GPU \n",
    "config.gpu_options.allow_growth=True #GPU\n",
    "sess = tf.compat.v1.Session(config=config)\n",
    "tf.compat.v1.keras.backend.set_session(sess)\n",
    "\n"
   ]
  },
  {
   "cell_type": "code",
   "execution_count": 2,
   "metadata": {},
   "outputs": [
    {
     "data": {
      "text/plain": [
       "array([[ 0,  1,  2,  3,  4],\n",
       "       [ 5,  6,  7,  8,  9],\n",
       "       [10, 11, 12, 13, 14]])"
      ]
     },
     "execution_count": 2,
     "metadata": {},
     "output_type": "execute_result"
    }
   ],
   "source": [
    "x = np.arange(15).reshape(3,5)\n",
    "x"
   ]
  },
  {
   "cell_type": "code",
   "execution_count": 3,
   "metadata": {},
   "outputs": [
    {
     "data": {
      "text/plain": [
       "array([[0.51931089, 0.17677025, 0.91360996, 0.3130684 , 0.11607793],\n",
       "       [0.65878392, 0.93012994, 0.15188893, 0.4604221 , 0.46544682],\n",
       "       [0.03531499, 0.21437109, 0.10861807, 0.77242365, 0.12825606]])"
      ]
     },
     "execution_count": 3,
     "metadata": {},
     "output_type": "execute_result"
    }
   ],
   "source": [
    "random = np.random.uniform(size=(3,5))\n",
    "epsilon = 0.5\n",
    "random_actions = np.random.randint(4, size=(3,5))\n",
    "random"
   ]
  },
  {
   "cell_type": "code",
   "execution_count": 4,
   "metadata": {},
   "outputs": [
    {
     "data": {
      "text/plain": [
       "array([[-3,  1, -4,  3,  4],\n",
       "       [-3, -2,  7,  8,  9],\n",
       "       [10, 11, 12, -3, 14]])"
      ]
     },
     "execution_count": 4,
     "metadata": {},
     "output_type": "execute_result"
    }
   ],
   "source": [
    "np.where(random < epsilon, x, -random_actions-1)"
   ]
  },
  {
   "cell_type": "code",
   "execution_count": 5,
   "metadata": {},
   "outputs": [],
   "source": [
    "\n",
    "def mask(x, idxs):\n",
    "    mask = np.zeros_like(x)\n",
    "    for i in range(mask.shape[0]):\n",
    "        mask[i] = idxs[i]\n",
    "    return mask * x\n"
   ]
  },
  {
   "cell_type": "code",
   "execution_count": 6,
   "metadata": {},
   "outputs": [],
   "source": [
    "class cnn_keras(tf.keras.Model):\n",
    "    def __init__(self):\n",
    "        tf.keras.Model.__init__(self)\n",
    "        self.conv1 = tf.keras.layers.Conv2D(32,[3,3], [1,1], activation=tf.keras.activations.relu)\n",
    "        self.conv2 = tf.keras.layers.Conv2D(32,[3,3], [1,1], activation=tf.keras.activations.relu)\n",
    "        self.conv3 = tf.keras.layers.Conv2D(32,[3,3], [1,1], activation=tf.keras.activations.relu)\n",
    "        self.flatten = tf.keras.layers.Flatten()\n",
    "        self.dense = tf.keras.layers.Dense(512, tf.keras.activations.relu)\n",
    "        \n",
    "        \n",
    "    def call(self, x):\n",
    "        x = x / 255\n",
    "        x = self.conv1(x)\n",
    "        x = self.conv2(x)\n",
    "        x = self.conv3(x)\n",
    "        x = self.flatten(x)\n",
    "        x = self.dense(x)\n",
    "        return x"
   ]
  },
  {
   "cell_type": "code",
   "execution_count": 7,
   "metadata": {},
   "outputs": [],
   "source": [
    "class cnn_softmax(tf.keras.Model):\n",
    "    def __init__(self, cnn):\n",
    "        tf.keras.Model.__init__(self)\n",
    "        self.cnn = cnn()\n",
    "    \n",
    "    def call(self, x):\n",
    "        return tf.nn.softmax(self.cnn(x))\n"
   ]
  },
  {
   "cell_type": "code",
   "execution_count": 8,
   "metadata": {},
   "outputs": [
    {
     "name": "stdout",
     "output_type": "stream",
     "text": [
      "x_train (50000, 32, 32, 3)\n"
     ]
    }
   ],
   "source": [
    "mnist = tf.keras.datasets.cifar10\n",
    "\n",
    "(x_train, y_train), (x_test, y_test) = mnist.load_data()\n",
    "x_train, x_test = x_train / 255.0, x_test / 255.0\n",
    "print('x_train', x_train.shape)"
   ]
  },
  {
   "cell_type": "code",
   "execution_count": 12,
   "metadata": {},
   "outputs": [
    {
     "name": "stdout",
     "output_type": "stream",
     "text": [
      "epoch 4, step 40000 avg_loss 14.738576000976563 \r"
     ]
    }
   ],
   "source": [
    "\n",
    "\n",
    "model = cnn_softmax(cnn_keras)\n",
    "\n",
    "# model.compile(optimizer='adam',\n",
    "#               loss='sparse_categorical_crossentropy',\n",
    "#               metrics=['accuracy'])\n",
    "\n",
    "# model.fit(x_train, y_train, epochs=5)\n",
    "\n",
    "# model.evaluate(x_test, y_test)\n",
    "optimiser = tf.keras.optimizers.Adam()\n",
    "cross_entr = tf.keras.losses.CategoricalCrossentropy()\n",
    "batch_size = 1000\n",
    "for epoch in range(5):\n",
    "    avg_loss = 0.0\n",
    "    for i in range(0,x_train.shape[0],1000):\n",
    "        with tf.GradientTape() as tape:\n",
    "            loss = cross_entr(y_train[i:i+1000], model(x_train[i:i+1000]))\n",
    "            \n",
    "        vars = model.trainable_variables\n",
    "        grads = tape.gradient(loss, vars)\n",
    "        grads, _ = tf.clip_by_global_norm(grads, 0.5)\n",
    "        optimiser.apply_gradients(zip(grads,vars))\n",
    "        avg_loss += tf.keras.backend.eval(loss)\n",
    "        \n",
    "        if i % 10000 == 0 and i >0 :\n",
    "            print('epoch {}, step {} avg_loss {} '.format(epoch,i,avg_loss/i), end=\"\\r\")"
   ]
  },
  {
   "cell_type": "code",
   "execution_count": null,
   "metadata": {},
   "outputs": [],
   "source": []
  }
 ],
 "metadata": {
  "kernelspec": {
   "display_name": "Python 3",
   "language": "python",
   "name": "python3"
  },
  "language_info": {
   "codemirror_mode": {
    "name": "ipython",
    "version": 3
   },
   "file_extension": ".py",
   "mimetype": "text/x-python",
   "name": "python",
   "nbconvert_exporter": "python",
   "pygments_lexer": "ipython3",
   "version": "3.5.7"
  }
 },
 "nbformat": 4,
 "nbformat_minor": 2
}
